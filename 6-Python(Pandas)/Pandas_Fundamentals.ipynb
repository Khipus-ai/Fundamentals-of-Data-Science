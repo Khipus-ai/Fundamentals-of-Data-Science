{
 "cells": [
  {
   "cell_type": "markdown",
   "id": "990ea3b3",
   "metadata": {},
   "source": [
    "\n",
    "# Khipus.ai  \n",
    "## Fundamentals of Data Science  \n",
    "### Python (Pandas)  \n",
    "<span>© Copyright Notice 2025, Khipus.ai - All Rights Reserved.</span>\n"
   ]
  },
  {
   "cell_type": "markdown",
   "id": "3db6caab",
   "metadata": {},
   "source": [
    "## Pandas Package\n",
    "Pandas provides fast, easy-to-understand data structures:\n",
    "\n",
    "- Built on top of NumPy.\n",
    "\n",
    "- Used for many data science projects around the world.\n",
    "\n",
    "- Most people will import pandas using “pd” as an alias.\n",
    "\n",
    "Main data structure in pandas:\n",
    "\n",
    "Series\n",
    "- An indexed list\n",
    "- Looks like NumPy array.\n",
    "\n",
    "DataFrame\n",
    "- Each column in a dataframe can have different datatypes\n",
    "- Looks like “Table” ."
   ]
  },
  {
   "cell_type": "code",
   "execution_count": 1,
   "id": "085edb24",
   "metadata": {},
   "outputs": [],
   "source": [
    "import pandas as pd\n",
    "import numpy as np"
   ]
  },
  {
   "cell_type": "code",
   "execution_count": 4,
   "id": "b9225e6d",
   "metadata": {},
   "outputs": [
    {
     "name": "stdout",
     "output_type": "stream",
     "text": [
      "    Name  Location  Age\n",
      "0   John  New York   24\n",
      "1   Anna     Paris   13\n",
      "2  Peter    Berlin   53\n"
     ]
    }
   ],
   "source": [
    "# Create a simple dataset of people\n",
    "data = {'Name': [\"John\", \"Anna\", \"Peter\"],\n",
    "        'Location' : [\"New York\", \"Paris\", \"Berlin\"],\n",
    "        'Age' : [24, 13, 53]\n",
    "       }\n",
    "\n",
    "df = pd.DataFrame(data)\n",
    "\n",
    "print(df)"
   ]
  },
  {
   "cell_type": "markdown",
   "id": "7e985ef8",
   "metadata": {},
   "source": [
    "## Series\n",
    "A Series is a one-dimensional labeled array capable of holding data of any type.\n",
    "\n",
    "You can create a Series from a list."
   ]
  },
  {
   "cell_type": "code",
   "execution_count": 5,
   "id": "4256e3bf",
   "metadata": {},
   "outputs": [
    {
     "name": "stdout",
     "output_type": "stream",
     "text": [
      "0    10\n",
      "1    20\n",
      "2    30\n",
      "dtype: int64\n"
     ]
    }
   ],
   "source": [
    "# From a list\n",
    "s = pd.Series([10, 20, 30])\n",
    "print(s)"
   ]
  },
  {
   "cell_type": "markdown",
   "id": "c9252664",
   "metadata": {},
   "source": [
    "## Create Series\n",
    "You can create a Series from a NumPy array, or dictionary."
   ]
  },
  {
   "cell_type": "code",
   "execution_count": 7,
   "id": "2b989c3d",
   "metadata": {},
   "outputs": [
    {
     "name": "stdout",
     "output_type": "stream",
     "text": [
      "0    5\n",
      "1    6\n",
      "2    7\n",
      "dtype: int32\n",
      "x    10\n",
      "y    20\n",
      "dtype: int64\n"
     ]
    }
   ],
   "source": [
    "# From a NumPy array\n",
    "s2 = pd.Series(np.array([5, 6, 7]))\n",
    "print(s2)\n",
    "\n",
    "# From a dictionary\n",
    "data = {'x': 10, 'y': 20}\n",
    "s3 = pd.Series(data)\n",
    "print(s3)"
   ]
  },
  {
   "cell_type": "markdown",
   "id": "7e060925",
   "metadata": {},
   "source": [
    "## Access to Values and Index\n",
    "You can access values and indexes separately."
   ]
  },
  {
   "cell_type": "code",
   "execution_count": 20,
   "id": "37aafcf6",
   "metadata": {},
   "outputs": [
    {
     "name": "stdout",
     "output_type": "stream",
     "text": [
      "Values: [10 20 30]\n",
      "Index: Index(['a', 'b', 'c'], dtype='object')\n"
     ]
    }
   ],
   "source": [
    "s = pd.Series([10, 20, 30], index=['a', 'b', 'c'])\n",
    "print('Values:', s.values)\n",
    "print('Index:', s.index)"
   ]
  },
  {
   "cell_type": "markdown",
   "id": "808bfb7e",
   "metadata": {},
   "source": [
    "## Indexing by String\n",
    "Set and use string labels as an index."
   ]
  },
  {
   "cell_type": "code",
   "execution_count": 21,
   "id": "678032a2",
   "metadata": {},
   "outputs": [
    {
     "name": "stdout",
     "output_type": "stream",
     "text": [
      "apple     10\n",
      "banana    20\n",
      "cherry    30\n",
      "dtype: int64\n"
     ]
    }
   ],
   "source": [
    "s = pd.Series([10, 20, 30], index=['apple', 'banana', 'cherry'])\n",
    "print(s)"
   ]
  },
  {
   "cell_type": "markdown",
   "id": "5d3f2445",
   "metadata": {},
   "source": [
    "## Access Elements Using Index\n",
    "You can extract elements by applying indexing to the Series."
   ]
  },
  {
   "cell_type": "code",
   "execution_count": 22,
   "id": "306aa236",
   "metadata": {},
   "outputs": [
    {
     "name": "stdout",
     "output_type": "stream",
     "text": [
      "b    20\n",
      "c    30\n",
      "dtype: int64\n"
     ]
    }
   ],
   "source": [
    "s = pd.Series([10, 20, 30], index=['a', 'b', 'c'])\n",
    "print(s['b':'c'])"
   ]
  },
  {
   "cell_type": "markdown",
   "id": "f122c6cd",
   "metadata": {},
   "source": [
    "## DataFrame\n",
    "A DataFrame is a two-dimensional labeled data structure."
   ]
  },
  {
   "cell_type": "code",
   "execution_count": 13,
   "id": "3393b240",
   "metadata": {},
   "outputs": [
    {
     "name": "stdout",
     "output_type": "stream",
     "text": [
      "    Name  Age\n",
      "0  Alice   25\n",
      "1    Bob   30\n",
      "2   Mary   35\n"
     ]
    }
   ],
   "source": [
    "df = pd.DataFrame({'Name': ['Alice', 'Bob','Mary'], 'Age': [25, 30, 35]})\n",
    "print(df)"
   ]
  },
  {
   "cell_type": "markdown",
   "id": "e79cdef2",
   "metadata": {},
   "source": [
    "## Create DataFrame from Series\n",
    "You can combine multiple Series to create a DataFrame."
   ]
  },
  {
   "cell_type": "code",
   "execution_count": 16,
   "id": "256f808d",
   "metadata": {},
   "outputs": [
    {
     "name": "stdout",
     "output_type": "stream",
     "text": [
      "    Sales  Expenses\n",
      "Q1  20000     15000\n",
      "Q2  35000     20000\n"
     ]
    }
   ],
   "source": [
    "sales = pd.Series([20000, 35000], index=['Q1', 'Q2'])\n",
    "expenses = pd.Series([15000, 20000], index=['Q1', 'Q2'])\n",
    "\n",
    "financials = pd.DataFrame({'Sales': sales, 'Expenses': expenses})\n",
    "print(financials)"
   ]
  },
  {
   "cell_type": "markdown",
   "id": "c9292d56",
   "metadata": {},
   "source": [
    "## Create DataFrame from List\n",
    "You can create a DataFrame from a list of dictionaries or other iterable structures.\n",
    "\n",
    "Note: A list of dictionaries is a data structure in Python where each element in the list is a dictionary. Each dictionary can have different keys and values. This structure is useful for storing a collection of related data items."
   ]
  },
  {
   "cell_type": "code",
   "execution_count": 14,
   "id": "0dd85537",
   "metadata": {},
   "outputs": [
    {
     "name": "stdout",
     "output_type": "stream",
     "text": [
      "    Name  Age\n",
      "0  Alice   25\n",
      "1    Bob   30\n"
     ]
    }
   ],
   "source": [
    "data = [{'Name': 'Alice', 'Age': 25}, {'Name': 'Bob', 'Age': 30}] # List of dictionaries\n",
    "df = pd.DataFrame(data)\n",
    "print(df)"
   ]
  },
  {
   "cell_type": "markdown",
   "id": "60793592",
   "metadata": {},
   "source": [
    "# Indexing DataFrame\n",
    "Indexing in pandas allows you to set or reset the index of a DataFrame to optimize data access and analysis.\n",
    "\n",
    "# Access to DataFrame Elements\n",
    "You can access elements in a DataFrame by columns or rows.\n"
   ]
  },
  {
   "cell_type": "code",
   "execution_count": 19,
   "id": "d3859d18",
   "metadata": {},
   "outputs": [
    {
     "name": "stdout",
     "output_type": "stream",
     "text": [
      "A    1000\n",
      "B     800\n",
      "C     600\n",
      "Name: Price, dtype: int64\n"
     ]
    }
   ],
   "source": [
    "data = {'Product': ['Laptop', 'Phone', 'Tablet'], 'Price': [1000, 800, 600]}\n",
    "df = pd.DataFrame(data)\n",
    "df.index = pd.Index(['A', 'B', 'C'])  # Setting a custom index\n",
    "print(df['Price'])\n"
   ]
  },
  {
   "cell_type": "markdown",
   "id": "da2cac0d",
   "metadata": {},
   "source": [
    "# Add Column\n",
    "You can add a new column to the DataFrame dynamically.\n",
    "\n"
   ]
  },
  {
   "cell_type": "code",
   "execution_count": 24,
   "id": "002c2dbb",
   "metadata": {},
   "outputs": [
    {
     "name": "stdout",
     "output_type": "stream",
     "text": [
      "  Product  Price  Discounted Price\n",
      "A  Laptop   1000             200.0\n",
      "B   Phone    800             160.0\n",
      "C  Tablet    600             120.0\n"
     ]
    }
   ],
   "source": [
    "# Add a column for discount price (20% of the original price)\n",
    "df['Discounted Price'] = df['Price'] * 0.2\n",
    "print(df)\n"
   ]
  },
  {
   "cell_type": "markdown",
   "id": "0aa40414",
   "metadata": {},
   "source": [
    "# Delete Column\n",
    "Remove a column from the DataFrame.\n"
   ]
  },
  {
   "cell_type": "code",
   "execution_count": 25,
   "id": "17e581d7",
   "metadata": {},
   "outputs": [
    {
     "name": "stdout",
     "output_type": "stream",
     "text": [
      "  Product  Price\n",
      "A  Laptop   1000\n",
      "B   Phone    800\n",
      "C  Tablet    600\n"
     ]
    }
   ],
   "source": [
    "# Delete the 'Discounted Price' column\n",
    "df.drop('Discounted Price', axis=1, inplace=True)\n",
    "print(df)"
   ]
  },
  {
   "cell_type": "markdown",
   "id": "a0b1ac22",
   "metadata": {},
   "source": [
    "# Filtering DataFrame\n",
    "Apply conditions to filter rows in the DataFrame.\n"
   ]
  },
  {
   "cell_type": "code",
   "execution_count": 26,
   "id": "fe972a48",
   "metadata": {},
   "outputs": [
    {
     "name": "stdout",
     "output_type": "stream",
     "text": [
      "  Product  Price\n",
      "A  Laptop   1000\n",
      "B   Phone    800\n"
     ]
    }
   ],
   "source": [
    "# Filter products with price greater than 700\n",
    "filtered_df = df[df['Price'] > 700]\n",
    "print(filtered_df)"
   ]
  },
  {
   "cell_type": "markdown",
   "id": "ce4ca804",
   "metadata": {},
   "source": [
    "# Universal Function at pandas\n",
    "Use NumPy universal functions on pandas objects."
   ]
  },
  {
   "cell_type": "code",
   "execution_count": 27,
   "id": "ee5f1cb3",
   "metadata": {},
   "outputs": [
    {
     "name": "stdout",
     "output_type": "stream",
     "text": [
      "A    2000\n",
      "B    1600\n",
      "C    1200\n",
      "Name: Price, dtype: int64\n"
     ]
    }
   ],
   "source": [
    "# Multiply all prices by 2\n",
    "New_prices = np.multiply(df['Price'], 2)\n",
    "print(New_prices)"
   ]
  },
  {
   "cell_type": "code",
   "execution_count": null,
   "id": "2939aeca",
   "metadata": {},
   "outputs": [],
   "source": []
  }
 ],
 "metadata": {
  "kernelspec": {
   "display_name": "base",
   "language": "python",
   "name": "python3"
  },
  "language_info": {
   "codemirror_mode": {
    "name": "ipython",
    "version": 3
   },
   "file_extension": ".py",
   "mimetype": "text/x-python",
   "name": "python",
   "nbconvert_exporter": "python",
   "pygments_lexer": "ipython3",
   "version": "3.11.7"
  }
 },
 "nbformat": 4,
 "nbformat_minor": 5
}
