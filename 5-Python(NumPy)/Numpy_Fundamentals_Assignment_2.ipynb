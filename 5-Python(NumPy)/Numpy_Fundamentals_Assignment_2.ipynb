{
 "cells": [
  {
   "cell_type": "markdown",
   "id": "ad078a69",
   "metadata": {},
   "source": [
    "# Khipus.ai\n",
    "## Fundamentals of Data Science \n",
    "### Python (NumPy):\n",
    "### Name : (Your name here)\n",
    "<span>© Copyright Notice 2025, Khipus.ai - All Rights Reserved.</span>\n",
    "\n",
    "# Assignment 2\n"
   ]
  },
  {
   "cell_type": "markdown",
   "id": "6654dffb",
   "metadata": {},
   "source": [
    "\n",
    "## Instructions\n",
    "1. Complete each task below by filling in the appropriate code in the provided cells.\n",
    "2. Ensure that your code runs without errors and produces the expected outputs.\n",
    "3. Submit your completed notebook as instructed by your instructor.\n"
   ]
  },
  {
   "cell_type": "markdown",
   "id": "74a1e3e2",
   "metadata": {},
   "source": [
    "# Import Numpy "
   ]
  },
  {
   "cell_type": "code",
   "execution_count": 2,
   "id": "d0d89bf8",
   "metadata": {},
   "outputs": [],
   "source": [
    "import numpy as np"
   ]
  },
  {
   "cell_type": "markdown",
   "id": "51e99f26",
   "metadata": {},
   "source": [
    "\n",
    "## Task 1: Creating Arrays\n",
    "Create a 1D NumPy array with values ranging from 10 to 50 (inclusive).\n",
    "\n",
    "Expected output:\n",
    "\n",
    "1D Array: [10 11 12 13 14 15 16 17 18 19 20 21 22 23 24 25 26 27 28 29 30 31 32 33\n",
    " 34 35 36 37 38 39 40 41 42 43 44 45 46 47 48 49 50]\n",
    "\n"
   ]
  },
  {
   "cell_type": "code",
   "execution_count": null,
   "id": "84bbf952",
   "metadata": {},
   "outputs": [],
   "source": [
    "# Task 1 Solution\n",
    "# <Your code here>\n",
    "\n",
    "\n",
    "# Solution for Task 1\n",
    "\n",
    "# 1D Array with values from 10 to 50\n",
    "array_1d = np.arange(10, 51)\n",
    "print(\"1D Array:\", array_1d)\n"
   ]
  },
  {
   "cell_type": "markdown",
   "id": "c2011162",
   "metadata": {},
   "source": [
    "\n",
    "## Task 2: Array Operations\n",
    "1. Use the two 1D arrays, `a` and `b`, each containing 5 random integers between 1 and 20.\n",
    "2. Perform the following operations:\n",
    "    - Add the two arrays element-wise.\n",
    "    - Multiply the two arrays element-wise.\n",
    "\n",
    "Expected output:\n",
    "\n",
    "Array a: [ 2 11  1  2 15]\n",
    "\n",
    "Array b: [ 6  7  5 19  5]\n",
    "\n",
    "Addition: [ 8 18  6 21 20]\n",
    "\n",
    "Multiplication: [12 77  5 38 75]\n"
   ]
  },
  {
   "cell_type": "code",
   "execution_count": null,
   "id": "fcb3adba",
   "metadata": {},
   "outputs": [],
   "source": [
    "# 1D arrays\n",
    "a = np.random.randint(1, 21, size=5)\n",
    "b = np.random.randint(1, 21, size=5)\n",
    "\n",
    "print(\"Array a:\", a)\n",
    "print(\"Array b:\", b)\n",
    "\n",
    "# Task 2 Solution\n",
    "# <Your code here>\n",
    "\n",
    "# Solution for Task 2\n",
    "\n",
    "# Element-wise addition\n",
    "add_result = np.add(a, b)\n",
    "print(\"Addition:\", add_result)\n",
    "\n",
    "# Element-wise multiplication\n",
    "multiply_result = np.multiply(a, b)\n",
    "print(\"Multiplication:\", multiply_result)\n",
    "\n"
   ]
  },
  {
   "cell_type": "markdown",
   "id": "7c6d62d0",
   "metadata": {},
   "source": [
    "\n",
    "## Task 3: Array Manipulation\n",
    "1. Use the 2D array of shape (4, 5) with values ranging from 1 to 20.\n",
    "2. Reshape the array into a shape of (5, 4).\n",
    "\n",
    "Expected output:\n",
    "\n",
    "Original 2D Array:\n",
    "\n",
    "[[ 1  2  3  4  5]\n",
    "\n",
    " [ 6  7  8  9 10]\n",
    "\n",
    " [11 12 13 14 15]\n",
    "\n",
    " [16 17 18 19 20]]\n",
    "\n",
    "Reshaped Array:\n",
    "\n",
    "[[ 1  2  3  4]\n",
    "\n",
    " [ 5  6  7  8]\n",
    "\n",
    " [ 9 10 11 12]\n",
    "\n",
    " [13 14 15 16]\n",
    "\n",
    " [17 18 19 20]]\n"
   ]
  },
  {
   "cell_type": "code",
   "execution_count": null,
   "id": "627781b1",
   "metadata": {},
   "outputs": [],
   "source": [
    "# 2D array\n",
    "array_2d = np.arange(1, 21).reshape(4, 5)\n",
    "print(\"Original 2D Array:\")\n",
    "print(array_2d)\n",
    "\n",
    "# Task 3 Solution\n",
    "\n",
    "# <Your code here>\n",
    "\n",
    "# Reshaping to (5, 4)\n",
    "reshaped_array = array_2d.reshape(5, 4)\n",
    "print(\"Reshaped Array:\")\n",
    "print(reshaped_array)\n"
   ]
  }
 ],
 "metadata": {
  "kernelspec": {
   "display_name": "base",
   "language": "python",
   "name": "python3"
  },
  "language_info": {
   "codemirror_mode": {
    "name": "ipython",
    "version": 3
   },
   "file_extension": ".py",
   "mimetype": "text/x-python",
   "name": "python",
   "nbconvert_exporter": "python",
   "pygments_lexer": "ipython3",
   "version": "3.11.7"
  }
 },
 "nbformat": 4,
 "nbformat_minor": 5
}
