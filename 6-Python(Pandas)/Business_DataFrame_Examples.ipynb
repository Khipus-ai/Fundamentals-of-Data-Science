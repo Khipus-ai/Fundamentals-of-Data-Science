{
 "cells": [
  {
   "cell_type": "markdown",
   "metadata": {},
   "source": [
    "# Indexing DataFrame\n",
    "Indexing in pandas allows you to set or reset the index of a DataFrame to optimize data access and analysis.\n"
   ]
  },
  {
   "cell_type": "code",
   "execution_count": 1,
   "metadata": {},
   "outputs": [
    {
     "name": "stdout",
     "output_type": "stream",
     "text": [
      "  Product  Price\n",
      "A  Laptop   1000\n",
      "B   Phone    800\n",
      "C  Tablet    600\n"
     ]
    }
   ],
   "source": [
    "import pandas as pd\n",
    "data = {'Product': ['Laptop', 'Phone', 'Tablet'], 'Price': [1000, 800, 600]}\n",
    "df = pd.DataFrame(data)\n",
    "df.index = pd.Index(['A', 'B', 'C'])  # Setting a custom index\n",
    "print(df)"
   ]
  },
  {
   "cell_type": "markdown",
   "metadata": {},
   "source": [
    "# Access to DataFrame Elements\n",
    "You can access elements in a DataFrame by columns or rows.\n"
   ]
  },
  {
   "cell_type": "code",
   "execution_count": null,
   "metadata": {},
   "outputs": [],
   "source": [
    "# Access a column\n",
    "print(df['Price'])"
   ]
  },
  {
   "cell_type": "markdown",
   "metadata": {},
   "source": [
    "# Access to DataFrame Elements (continued)\n",
    "Extract rows using labels or integer-based indexing.\n"
   ]
  },
  {
   "cell_type": "code",
   "execution_count": null,
   "metadata": {},
   "outputs": [],
   "source": [
    "# Access a row\n",
    "print(df.loc['B'])  # Using label-based indexing\n",
    "print(df.iloc[1])   # Using integer-based indexing"
   ]
  },
  {
   "cell_type": "markdown",
   "metadata": {},
   "source": [
    "# Add Column\n",
    "You can add a new column to the DataFrame dynamically.\n"
   ]
  },
  {
   "cell_type": "code",
   "execution_count": null,
   "metadata": {},
   "outputs": [],
   "source": [
    "# Add a column for discount price (10% off)\n",
    "df['Discounted Price'] = df['Price'] * 0.9\n",
    "print(df)"
   ]
  },
  {
   "cell_type": "markdown",
   "metadata": {},
   "source": [
    "# Delete Column\n",
    "Remove a column from the DataFrame.\n"
   ]
  },
  {
   "cell_type": "code",
   "execution_count": null,
   "metadata": {},
   "outputs": [],
   "source": [
    "# Delete the 'Discounted Price' column\n",
    "df.drop('Discounted Price', axis=1, inplace=True)\n",
    "print(df)"
   ]
  },
  {
   "cell_type": "markdown",
   "metadata": {},
   "source": [
    "# Filtering DataFrame\n",
    "Apply conditions to filter rows in the DataFrame.\n"
   ]
  },
  {
   "cell_type": "code",
   "execution_count": null,
   "metadata": {},
   "outputs": [],
   "source": [
    "# Filter products with price greater than 700\n",
    "filtered_df = df[df['Price'] > 700]\n",
    "print(filtered_df)"
   ]
  },
  {
   "cell_type": "markdown",
   "metadata": {},
   "source": [
    "# Universal Function at pandas\n",
    "Use NumPy universal functions on pandas objects.\n"
   ]
  },
  {
   "cell_type": "code",
   "execution_count": null,
   "metadata": {},
   "outputs": [],
   "source": [
    "import numpy as np\n",
    "# Calculate the square of each price\n",
    "squared_prices = np.square(df['Price'])\n",
    "print(squared_prices)"
   ]
  }
 ],
 "metadata": {
  "kernelspec": {
   "display_name": "base",
   "language": "python",
   "name": "python3"
  },
  "language_info": {
   "codemirror_mode": {
    "name": "ipython",
    "version": 3
   },
   "file_extension": ".py",
   "mimetype": "text/x-python",
   "name": "python",
   "nbconvert_exporter": "python",
   "pygments_lexer": "ipython3",
   "version": "3.11.7"
  }
 },
 "nbformat": 4,
 "nbformat_minor": 4
}
