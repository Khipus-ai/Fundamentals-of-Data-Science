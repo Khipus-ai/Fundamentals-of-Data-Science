{
 "cells": [
  {
   "cell_type": "markdown",
   "id": "990ea3b3",
   "metadata": {},
   "source": [
    "\n",
    "# Khipus.ai  \n",
    "## Fundamentals of Data Science  \n",
    "### Python (Pandas)  \n",
    "<span>© Copyright Notice 2025, Khipus.ai - All Rights Reserved.</span>\n"
   ]
  },
  {
   "cell_type": "markdown",
   "id": "3db6caab",
   "metadata": {},
   "source": [
    "## Pandas Package\n",
    "Pandas provides fast, easy-to-understand data structures built on top of NumPy for data science tasks."
   ]
  },
  {
   "cell_type": "code",
   "execution_count": null,
   "id": "085edb24",
   "metadata": {},
   "outputs": [],
   "source": [
    "import pandas as pd\n",
    "import numpy as np\n",
    "\n",
    "# Example of using pandas\n",
    "data = {'A': [1, 2, 3], 'B': [4, 5, 6]}\n",
    "df = pd.DataFrame(data)\n",
    "df"
   ]
  },
  {
   "cell_type": "markdown",
   "id": "7e985ef8",
   "metadata": {},
   "source": [
    "## Series\n",
    "A Series is a one-dimensional labeled array capable of holding data of any type."
   ]
  },
  {
   "cell_type": "code",
   "execution_count": null,
   "id": "2a2e3179",
   "metadata": {},
   "outputs": [],
   "source": [
    "s = pd.Series([10, 20, 30], index=['a', 'b', 'c'])\n",
    "print(s)"
   ]
  },
  {
   "cell_type": "markdown",
   "id": "c9252664",
   "metadata": {},
   "source": [
    "## Create Series\n",
    "You can create a Series from a list, NumPy array, or dictionary."
   ]
  },
  {
   "cell_type": "code",
   "execution_count": null,
   "id": "2b989c3d",
   "metadata": {},
   "outputs": [],
   "source": [
    "# From a list\n",
    "s1 = pd.Series([1, 2, 3, 4])\n",
    "print(s1)\n",
    "\n",
    "# From a NumPy array\n",
    "s2 = pd.Series(np.array([5, 6, 7]))\n",
    "print(s2)\n",
    "\n",
    "# From a dictionary\n",
    "data = {'x': 10, 'y': 20}\n",
    "s3 = pd.Series(data)\n",
    "print(s3)"
   ]
  },
  {
   "cell_type": "markdown",
   "id": "7e060925",
   "metadata": {},
   "source": [
    "## Access to Values and Index\n",
    "You can access values and indexes separately."
   ]
  },
  {
   "cell_type": "code",
   "execution_count": null,
   "id": "37aafcf6",
   "metadata": {},
   "outputs": [],
   "source": [
    "s = pd.Series([10, 20, 30], index=['a', 'b', 'c'])\n",
    "print('Values:', s.values)\n",
    "print('Index:', s.index)"
   ]
  },
  {
   "cell_type": "markdown",
   "id": "808bfb7e",
   "metadata": {},
   "source": [
    "## Indexing by String\n",
    "Set and use string labels as an index."
   ]
  },
  {
   "cell_type": "code",
   "execution_count": null,
   "id": "678032a2",
   "metadata": {},
   "outputs": [],
   "source": [
    "s = pd.Series([10, 20, 30], index=['apple', 'banana', 'cherry'])\n",
    "print(s['banana'])"
   ]
  },
  {
   "cell_type": "markdown",
   "id": "5d3f2445",
   "metadata": {},
   "source": [
    "## Access Elements Using Index\n",
    "You can extract elements by applying indexing to the Series."
   ]
  },
  {
   "cell_type": "code",
   "execution_count": null,
   "id": "306aa236",
   "metadata": {},
   "outputs": [],
   "source": [
    "s = pd.Series([10, 20, 30], index=['a', 'b', 'c'])\n",
    "print(s['b':'c'])"
   ]
  },
  {
   "cell_type": "markdown",
   "id": "f122c6cd",
   "metadata": {},
   "source": [
    "## DataFrame\n",
    "A DataFrame is a two-dimensional labeled data structure."
   ]
  },
  {
   "cell_type": "code",
   "execution_count": null,
   "id": "3393b240",
   "metadata": {},
   "outputs": [],
   "source": [
    "df = pd.DataFrame({'Name': ['Alice', 'Bob'], 'Age': [25, 30]})\n",
    "print(df)"
   ]
  },
  {
   "cell_type": "markdown",
   "id": "e79cdef2",
   "metadata": {},
   "source": [
    "## Create DataFrame from Series\n",
    "You can combine multiple Series to create a DataFrame."
   ]
  },
  {
   "cell_type": "code",
   "execution_count": null,
   "id": "256f808d",
   "metadata": {},
   "outputs": [],
   "source": [
    "heights = pd.Series([165, 180], index=['Alice', 'Bob'])\n",
    "weights = pd.Series([55, 75], index=['Alice', 'Bob'])\n",
    "\n",
    "bmi = pd.DataFrame({'Height': heights, 'Weight': weights})\n",
    "print(bmi)"
   ]
  },
  {
   "cell_type": "markdown",
   "id": "c9292d56",
   "metadata": {},
   "source": [
    "## Create DataFrame from List\n",
    "You can create a DataFrame from a list of dictionaries or other iterable structures."
   ]
  },
  {
   "cell_type": "code",
   "execution_count": null,
   "id": "0dd85537",
   "metadata": {},
   "outputs": [],
   "source": [
    "data = [{'Name': 'Alice', 'Age': 25}, {'Name': 'Bob', 'Age': 30}]\n",
    "df = pd.DataFrame(data)\n",
    "print(df)"
   ]
  },
  {
   "cell_type": "markdown",
   "id": "0037ae2c",
   "metadata": {},
   "source": [
    "# Indexing DataFrame\n",
    "Indexing in pandas allows you to set or reset the index of a DataFrame to optimize data access and analysis.\n"
   ]
  },
  {
   "cell_type": "code",
   "execution_count": 1,
   "id": "d03164c8",
   "metadata": {},
   "outputs": [
    {
     "name": "stdout",
     "output_type": "stream",
     "text": [
      "  Product  Price\n",
      "A  Laptop   1000\n",
      "B   Phone    800\n",
      "C  Tablet    600\n"
     ]
    }
   ],
   "source": [
    "import pandas as pd\n",
    "data = {'Product': ['Laptop', 'Phone', 'Tablet'], 'Price': [1000, 800, 600]}\n",
    "df = pd.DataFrame(data)\n",
    "df.index = pd.Index(['A', 'B', 'C'])  # Setting a custom index\n",
    "print(df)"
   ]
  },
  {
   "cell_type": "markdown",
   "id": "1a3680a8",
   "metadata": {},
   "source": [
    "# Access to DataFrame Elements\n",
    "You can access elements in a DataFrame by columns or rows.\n"
   ]
  },
  {
   "cell_type": "code",
   "execution_count": null,
   "id": "d623f2e0",
   "metadata": {},
   "outputs": [],
   "source": [
    "# Access a column\n",
    "print(df['Price'])"
   ]
  },
  {
   "cell_type": "markdown",
   "id": "0989d008",
   "metadata": {},
   "source": [
    "# Access to DataFrame Elements (continued)\n",
    "Extract rows using labels or integer-based indexing.\n"
   ]
  },
  {
   "cell_type": "code",
   "execution_count": null,
   "id": "7bd595d3",
   "metadata": {},
   "outputs": [],
   "source": [
    "# Access a row\n",
    "print(df.loc['B'])  # Using label-based indexing\n",
    "print(df.iloc[1])   # Using integer-based indexing"
   ]
  },
  {
   "cell_type": "markdown",
   "id": "219f6db7",
   "metadata": {},
   "source": [
    "# Add Column\n",
    "You can add a new column to the DataFrame dynamically.\n"
   ]
  },
  {
   "cell_type": "code",
   "execution_count": null,
   "id": "81a85733",
   "metadata": {},
   "outputs": [],
   "source": [
    "# Add a column for discount price (10% off)\n",
    "df['Discounted Price'] = df['Price'] * 0.9\n",
    "print(df)"
   ]
  },
  {
   "cell_type": "markdown",
   "id": "636e6768",
   "metadata": {},
   "source": [
    "# Delete Column\n",
    "Remove a column from the DataFrame.\n"
   ]
  },
  {
   "cell_type": "code",
   "execution_count": null,
   "id": "61136d6b",
   "metadata": {},
   "outputs": [],
   "source": [
    "# Delete the 'Discounted Price' column\n",
    "df.drop('Discounted Price', axis=1, inplace=True)\n",
    "print(df)"
   ]
  },
  {
   "cell_type": "markdown",
   "id": "3cb7099e",
   "metadata": {},
   "source": [
    "# Filtering DataFrame\n",
    "Apply conditions to filter rows in the DataFrame.\n"
   ]
  },
  {
   "cell_type": "code",
   "execution_count": null,
   "id": "d6ff88ff",
   "metadata": {},
   "outputs": [],
   "source": [
    "# Filter products with price greater than 700\n",
    "filtered_df = df[df['Price'] > 700]\n",
    "print(filtered_df)"
   ]
  },
  {
   "cell_type": "markdown",
   "id": "d5763428",
   "metadata": {},
   "source": [
    "# Universal Function at pandas\n",
    "Use NumPy universal functions on pandas objects.\n"
   ]
  },
  {
   "cell_type": "code",
   "execution_count": null,
   "id": "493af090",
   "metadata": {},
   "outputs": [],
   "source": [
    "import numpy as np\n",
    "# Calculate the square of each price\n",
    "squared_prices = np.square(df['Price'])\n",
    "print(squared_prices)"
   ]
  }
 ],
 "metadata": {},
 "nbformat": 4,
 "nbformat_minor": 5
}
