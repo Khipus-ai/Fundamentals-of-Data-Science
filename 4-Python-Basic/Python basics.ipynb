{
 "cells": [
  {
   "cell_type": "markdown",
   "metadata": {},
   "source": [
    "# Khipus.ai\n",
    "## Fundamentals of Data Science \n",
    "### Python basics:\n",
    "<span>© Copyright Notice 2025, Khipus.ai - All Rights Reserved.</span>"
   ]
  },
  {
   "cell_type": "markdown",
   "metadata": {},
   "source": [
    "# Print Statement\n",
    "\n",
    "The print statement outputs text or variables to the console\n",
    "\n",
    "Example:"
   ]
  },
  {
   "cell_type": "code",
   "execution_count": null,
   "metadata": {},
   "outputs": [],
   "source": [
    "# Print Statement\n",
    "print('Hello, World!')"
   ]
  },
  {
   "cell_type": "markdown",
   "metadata": {},
   "source": [
    "# Most used Python Data types "
   ]
  },
  {
   "cell_type": "markdown",
   "metadata": {},
   "source": [
    "## str (String)\n",
    "Represents textual data.\n",
    "Strings are immutable (cannot be changed after creation).\n",
    "Defined using single ('), double (\"), or triple quotes (''' or \"\"\"`).\n",
    "Example:"
   ]
  },
  {
   "cell_type": "code",
   "execution_count": 1,
   "metadata": {},
   "outputs": [],
   "source": [
    "text = \"Hello, World!\""
   ]
  },
  {
   "cell_type": "markdown",
   "metadata": {},
   "source": [
    "## Numeric Types\n",
    "### int (Integer):\n",
    "Whole numbers, positive or negative, without a fractional part.\n",
    "\n",
    "### float (Floating-Point Number):\n",
    "Numbers with a decimal point or in exponential form.\n",
    "\n",
    "### complex (Complex Number):\n",
    "Numbers with a real and an imaginary part (e.g., 3 + 4j).\n",
    "Example:"
   ]
  },
  {
   "cell_type": "code",
   "execution_count": 2,
   "metadata": {},
   "outputs": [],
   "source": [
    "x = 42        # int\n",
    "y = 3.14      # float\n",
    "z = 1 + 2j    # complex\n"
   ]
  },
  {
   "cell_type": "markdown",
   "metadata": {},
   "source": [
    "## Note:\n",
    "\n",
    "Mutable objects can be changed after they are created\n",
    "\n",
    "Immutable objects cannot be changed after they are created."
   ]
  },
  {
   "cell_type": "markdown",
   "metadata": {},
   "source": [
    "## Sequence Types\n",
    "### list:\n",
    "An ordered, mutable collection of items.\n",
    "### tuple:\n",
    "An ordered, immutable collection of items.\n",
    "### range:\n",
    "Represents an immutable sequence of numbers, typically used in loops.\n",
    "\n",
    "Example:"
   ]
  },
  {
   "cell_type": "code",
   "execution_count": 3,
   "metadata": {},
   "outputs": [],
   "source": [
    "my_list = [1, 2, 3]  # list\n",
    "my_tuple = (1, 2, 3) # tuple\n",
    "my_range = range(5)  # range (0 to 4)\n"
   ]
  },
  {
   "cell_type": "markdown",
   "metadata": {},
   "source": [
    "## dict (Dictionary)\n",
    "Represents a collection of key-value pairs.\n",
    "\n",
    "Keys must be unique and immutable (e.g., strings, numbers, or tuples).\n",
    "\n",
    "Values can be of any type.\n",
    "\n",
    "Example:"
   ]
  },
  {
   "cell_type": "code",
   "execution_count": 4,
   "metadata": {},
   "outputs": [],
   "source": [
    "my_dict = {\"name\": \"Alice\", \"age\": 30}\n"
   ]
  },
  {
   "cell_type": "markdown",
   "metadata": {},
   "source": [
    "## bool (Boolean)\n",
    "Represents logical values: True or False.\n",
    "\n",
    "Often used in conditions and comparisons.\n",
    "\n",
    "Example:"
   ]
  },
  {
   "cell_type": "code",
   "execution_count": 6,
   "metadata": {},
   "outputs": [],
   "source": [
    "is_valid = True\n"
   ]
  },
  {
   "cell_type": "markdown",
   "metadata": {},
   "source": [
    "# Variables\n",
    "\n",
    "A variable is a named storage location in memory that holds a value which can be changed during program execution.\n",
    "\n",
    "In Python no command for declaring a variable.​\n",
    "\n",
    "A variable is created at the time of initializing it.\n"
   ]
  },
  {
   "cell_type": "code",
   "execution_count": null,
   "metadata": {},
   "outputs": [],
   "source": [
    "x = 5\n",
    "y = \"John\"\n",
    "print(x)\n",
    "print(y)"
   ]
  },
  {
   "cell_type": "markdown",
   "metadata": {},
   "source": [
    "We can change type after being set."
   ]
  },
  {
   "cell_type": "code",
   "execution_count": null,
   "metadata": {},
   "outputs": [],
   "source": [
    "x = 4       # x is of type int​\n",
    "x = \"Sally\" # x is now of type str​\n",
    "print(x)"
   ]
  },
  {
   "cell_type": "markdown",
   "metadata": {},
   "source": [
    "Casting: converting it from one data type to another. \n",
    "\n",
    "Example: turning a string into an integer."
   ]
  },
  {
   "cell_type": "code",
   "execution_count": null,
   "metadata": {},
   "outputs": [],
   "source": [
    "x = str(3) #vconverts the integer 3 to a string, so x will be '3'.\n",
    "y = int(3) # keeps the integer 3 as an integer, so y will be 3.\n",
    "z = float(3) # converts the integer 3 to a floating-point number, so z will be 3.0.\n",
    "\n",
    "print(x, type(x))  # <class 'str'>\n",
    "print(y, type(y))  # <class 'int'>\n",
    "print(z, type(z))  # <class 'float'>"
   ]
  },
  {
   "cell_type": "markdown",
   "metadata": {},
   "source": [
    "# Basic Arithmetic\n"
   ]
  },
  {
   "cell_type": "code",
   "execution_count": null,
   "metadata": {},
   "outputs": [],
   "source": [
    "# Basic Arithmetic\n",
    "\n",
    "# Define variables\n",
    "a = 5\n",
    "b = 3\n",
    "\n",
    "# Addition\n",
    "print(a + b)\n",
    "\n",
    "# Subtraction\n",
    "print(a - b)\n",
    "\n",
    "# Multiplication\n",
    "print(a * b)\n",
    "\n",
    "# Division\n",
    "print(a / b)"
   ]
  },
  {
   "cell_type": "markdown",
   "metadata": {},
   "source": [
    "# Basic structures\n",
    "\n",
    "### List​\n",
    "\n",
    "A way to give a single name to a collection of values.​\n",
    "\n",
    "It can contain different types of values, including other lists​\n",
    "\n",
    "​\n",
    "\n",
    "### Array​\n",
    "\n",
    "A collection of values.\n",
    "\n",
    "An array can hold only one type of data, making it a compact and efficient structure."
   ]
  },
  {
   "cell_type": "markdown",
   "metadata": {},
   "source": [
    "## List manipulation\n",
    "List manipulation involves modifying, accessing, or rearranging elements within a list."
   ]
  },
  {
   "cell_type": "code",
   "execution_count": null,
   "metadata": {},
   "outputs": [],
   "source": [
    "# Define a list of fruits\n",
    "fruits = ['apple', 'banana', 'cherry']\n",
    "\n",
    "# Print the entire list\n",
    "print(fruits)\n",
    "\n",
    "# Print the first element of the list\n",
    "print(fruits[0])\n",
    "\n"
   ]
  },
  {
   "cell_type": "markdown",
   "metadata": {},
   "source": [
    "### Index:\n",
    "The index on a list is the position number of an element within the list, starting from 0 for the first element.\n",
    "\n",
    "### Slice notation\n",
    "\n",
    "In Python, slice notation is used to get a part of a sequence (like a list). The syntax is sequence[start:stop:step]:\n",
    "\n",
    "start: where to begin (inclusive).\n",
    "\n",
    "stop: where to end (exclusive).\n",
    "\n",
    "step: how many items to skip (optional).\n",
    "\n",
    "Examples:\n",
    "\n",
    "sequence[1:3] gets items at index 1 and 2.\n",
    "\n",
    "sequence[:3] gets items from the start to index 2.\n",
    "\n",
    "sequence[1:] gets items from index 1 to the end."
   ]
  },
  {
   "cell_type": "code",
   "execution_count": null,
   "metadata": {},
   "outputs": [],
   "source": [
    "Names = ['Alice', 'Bob', 'Charlie']\n",
    "print(Names[1:3]) # Print the second and third elements of the list (items at index 1 and 2)\n",
    "print(Names[:3])  # Print the items from the start to index 2.\n",
    "print(Names[1:])  # Print the items from index 1 to the end of the list."
   ]
  },
  {
   "cell_type": "markdown",
   "metadata": {},
   "source": [
    "### List manipulation (continued)​\n",
    "Change element​\n",
    "\n",
    "​Add element to list\n",
    "\n",
    "Remove elements"
   ]
  },
  {
   "cell_type": "code",
   "execution_count": null,
   "metadata": {},
   "outputs": [],
   "source": [
    "cities = ['New York', 'Paris', 'London']\n",
    "print(cities)\n",
    "cities [2] = 'Lima' # Replace the item at index 2\n",
    "print(cities)"
   ]
  },
  {
   "cell_type": "code",
   "execution_count": null,
   "metadata": {},
   "outputs": [],
   "source": [
    "cities.append('Tokyo') # Add a new item to the end of the list\n",
    "print(cities)"
   ]
  },
  {
   "cell_type": "code",
   "execution_count": null,
   "metadata": {},
   "outputs": [],
   "source": [
    "cities.remove('Paris') # Remove the item 'Paris' from the list | del cities[2] # Remove the item at index 2\n",
    "print(cities)"
   ]
  },
  {
   "cell_type": "markdown",
   "metadata": {},
   "source": [
    "# Conditions\n",
    "## if and else\n",
    "\n",
    "if runs code if a condition is true, and else runs code if the condition is false.\n",
    "\n",
    "Python uses indentation to define code blocks."
   ]
  },
  {
   "cell_type": "code",
   "execution_count": null,
   "metadata": {},
   "outputs": [],
   "source": [
    "x = 10 \n",
    "if x > 5:\n",
    "    print(\"x is greater than 5\")\n",
    "else:\n",
    "    print(\"x is not greater than 5\")    \n"
   ]
  },
  {
   "cell_type": "markdown",
   "metadata": {},
   "source": [
    "# Loops\n",
    "## for\n",
    "A for loop in Python repeats a block of code for each item in a sequence (like a list or range).\n"
   ]
  },
  {
   "cell_type": "code",
   "execution_count": null,
   "metadata": {},
   "outputs": [],
   "source": [
    "x = [1, 2, 3]\n",
    "for i in x:\n",
    "    print(i)"
   ]
  },
  {
   "cell_type": "markdown",
   "metadata": {},
   "source": [
    "## While\n",
    "A while loop in Python repeats a block of code as long as a condition is true."
   ]
  },
  {
   "cell_type": "code",
   "execution_count": null,
   "metadata": {},
   "outputs": [],
   "source": [
    "# Initialize count to 0\n",
    "count = 0\n",
    "\n",
    "# Start the while loop, which will run as long as count is less than 5\n",
    "while count < 5:\n",
    "    # Print the current value of count\n",
    "    print(count)\n",
    "    # Increment count by 1\n",
    "    count += 1"
   ]
  },
  {
   "cell_type": "markdown",
   "metadata": {},
   "source": [
    "# Functions\n",
    "\n",
    "A function is a reusable block of code that performs a specific task. You define it using the def keyword and call it by its name.\n",
    "\n",
    "Built in piece of reusable code.​\n",
    "\n",
    "Created for a particular task."
   ]
  },
  {
   "cell_type": "code",
   "execution_count": null,
   "metadata": {},
   "outputs": [],
   "source": [
    "\n",
    "# Define a function to greet a person by name\n",
    "def greet(name):\n",
    "    return f'Hello, {name}!'\n",
    "\n",
    "# Call the function and print the result\n",
    "print(greet('Alice'))"
   ]
  },
  {
   "cell_type": "code",
   "execution_count": null,
   "metadata": {},
   "outputs": [],
   "source": []
  }
 ],
 "metadata": {
  "kernelspec": {
   "display_name": "base",
   "language": "python",
   "name": "python3"
  },
  "language_info": {
   "codemirror_mode": {
    "name": "ipython",
    "version": 3
   },
   "file_extension": ".py",
   "mimetype": "text/x-python",
   "name": "python",
   "nbconvert_exporter": "python",
   "pygments_lexer": "ipython3",
   "version": "3.11.7"
  }
 },
 "nbformat": 4,
 "nbformat_minor": 2
}
