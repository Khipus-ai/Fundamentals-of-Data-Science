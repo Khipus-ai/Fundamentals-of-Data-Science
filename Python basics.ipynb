{
 "cells": [
  {
   "cell_type": "markdown",
   "metadata": {},
   "source": [
    "# Khipus.ai\n",
    "## Fundamentals of Data Science \n",
    "### Python basics:\n",
    "<span style=\"color:red\">© Copyright Notice 2025, Khipus.ai - All Rights Reserved.</span>"
   ]
  },
  {
   "cell_type": "markdown",
   "metadata": {},
   "source": [
    "# Print Statement\n",
    "print('Hello, World!')"
   ]
  },
  {
   "cell_type": "code",
   "execution_count": 1,
   "metadata": {},
   "outputs": [
    {
     "name": "stdout",
     "output_type": "stream",
     "text": [
      "Hello, World!\n"
     ]
    }
   ],
   "source": [
    "# Print Statement\n",
    "print('Hello, World!')"
   ]
  },
  {
   "cell_type": "markdown",
   "metadata": {},
   "source": [
    "# Basic Arithmetic\n",
    "a = 5\n",
    "b = 3\n",
    "print(a + b)\n",
    "print(a - b)\n",
    "print(a * b)\n",
    "print(a / b)"
   ]
  },
  {
   "cell_type": "code",
   "execution_count": 2,
   "metadata": {},
   "outputs": [
    {
     "name": "stdout",
     "output_type": "stream",
     "text": [
      "8\n",
      "2\n",
      "15\n",
      "1.6666666666666667\n"
     ]
    }
   ],
   "source": [
    "# Basic Arithmetic\n",
    "\n",
    "# Define variables\n",
    "a = 5\n",
    "b = 3\n",
    "\n",
    "# Addition\n",
    "print(a + b)\n",
    "\n",
    "# Subtraction\n",
    "print(a - b)\n",
    "\n",
    "# Multiplication\n",
    "print(a * b)\n",
    "\n",
    "# Division\n",
    "print(a / b)"
   ]
  },
  {
   "cell_type": "markdown",
   "metadata": {},
   "source": [
    "# Variables and Data Types\n",
    "x = 10\n",
    "name = 'Alice'\n",
    "is_student = True\n",
    "print(x)\n",
    "print(name)\n",
    "print(is_student)"
   ]
  },
  {
   "cell_type": "code",
   "execution_count": 3,
   "metadata": {},
   "outputs": [
    {
     "name": "stdout",
     "output_type": "stream",
     "text": [
      "10\n",
      "Alice\n",
      "True\n"
     ]
    }
   ],
   "source": [
    "# Variables and Data Types\n",
    "\n",
    "# Define variables\n",
    "# Define a variable x and assign it the value 10\n",
    "# x is an integer\n",
    "x = 10\n",
    "name = 'Alice'\n",
    "is_student = True\n",
    "\n",
    "# Print variables\n",
    "print(x)\n",
    "print(name)\n",
    "print(is_student)"
   ]
  },
  {
   "cell_type": "markdown",
   "metadata": {},
   "source": [
    "# Lists\n",
    "fruits = ['apple', 'banana', 'cherry']\n",
    "print(fruits)\n",
    "print(fruits[0])\n",
    "print(fruits[1:3])"
   ]
  },
  {
   "cell_type": "code",
   "execution_count": null,
   "metadata": {},
   "outputs": [],
   "source": [
    "# Lists\n",
    "\n",
    "# Define a list of fruits\n",
    "fruits = ['apple', 'banana', 'cherry']\n",
    "\n",
    "# Print the entire list\n",
    "print(fruits)\n",
    "\n",
    "# Print the first element of the list\n",
    "print(fruits[0])\n",
    "\n",
    "# Print the second and third elements of the list\n",
    "print(fruits[1:3])"
   ]
  },
  {
   "cell_type": "markdown",
   "metadata": {},
   "source": [
    "# Loops\n",
    "for i in range(5):\n",
    "    print(i)"
   ]
  },
  {
   "cell_type": "code",
   "execution_count": null,
   "metadata": {},
   "outputs": [],
   "source": [
    "# Loops\n",
    "\n",
    "# Using a for loop to print numbers from 0 to 4\n",
    "for i in range(5):\n",
    "    print(i)"
   ]
  },
  {
   "cell_type": "markdown",
   "metadata": {},
   "source": [
    "# Functions\n",
    "def greet(name):\n",
    "    return f'Hello, {name}!'\n",
    "\n",
    "print(greet('Alice'))"
   ]
  },
  {
   "cell_type": "code",
   "execution_count": null,
   "metadata": {},
   "outputs": [],
   "source": [
    "# Functions\n",
    "\n",
    "# Define a function to greet a person by name\n",
    "def greet(name):\n",
    "    return f'Hello, {name}!'\n",
    "\n",
    "# Call the function and print the result\n",
    "print(greet('Alice'))"
   ]
  }
 ],
 "metadata": {
  "kernelspec": {
   "display_name": "base",
   "language": "python",
   "name": "python3"
  },
  "language_info": {
   "codemirror_mode": {
    "name": "ipython",
    "version": 3
   },
   "file_extension": ".py",
   "mimetype": "text/x-python",
   "name": "python",
   "nbconvert_exporter": "python",
   "pygments_lexer": "ipython3",
   "version": "3.11.7"
  }
 },
 "nbformat": 4,
 "nbformat_minor": 2
}
