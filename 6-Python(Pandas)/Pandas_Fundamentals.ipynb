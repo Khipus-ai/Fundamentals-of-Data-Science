{
 "cells": [
  {
   "cell_type": "markdown",
   "id": "990ea3b3",
   "metadata": {},
   "source": [
    "\n",
    "# Khipus.ai  \n",
    "## Fundamentals of Data Science  \n",
    "### Python (Pandas)  \n",
    "<span>© Copyright Notice 2025, Khipus.ai - All Rights Reserved.</span>\n"
   ]
  },
  {
   "cell_type": "markdown",
   "id": "3db6caab",
   "metadata": {},
   "source": [
    "## Pandas Package\n",
    "Pandas provides fast, easy-to-understand data structures built on top of NumPy for data science tasks."
   ]
  },
  {
   "cell_type": "code",
   "execution_count": null,
   "id": "085edb24",
   "metadata": {},
   "outputs": [],
   "source": [
    "import pandas as pd\n",
    "import numpy as np\n",
    "\n",
    "# Example of using pandas\n",
    "data = {'A': [1, 2, 3], 'B': [4, 5, 6]}\n",
    "df = pd.DataFrame(data)\n",
    "df"
   ]
  },
  {
   "cell_type": "markdown",
   "id": "7e985ef8",
   "metadata": {},
   "source": [
    "## Series\n",
    "A Series is a one-dimensional labeled array capable of holding data of any type."
   ]
  },
  {
   "cell_type": "code",
   "execution_count": null,
   "id": "2a2e3179",
   "metadata": {},
   "outputs": [],
   "source": [
    "s = pd.Series([10, 20, 30], index=['a', 'b', 'c'])\n",
    "print(s)"
   ]
  },
  {
   "cell_type": "markdown",
   "id": "c9252664",
   "metadata": {},
   "source": [
    "## Create Series\n",
    "You can create a Series from a list, NumPy array, or dictionary."
   ]
  },
  {
   "cell_type": "code",
   "execution_count": null,
   "id": "2b989c3d",
   "metadata": {},
   "outputs": [],
   "source": [
    "# From a list\n",
    "s1 = pd.Series([1, 2, 3, 4])\n",
    "print(s1)\n",
    "\n",
    "# From a NumPy array\n",
    "s2 = pd.Series(np.array([5, 6, 7]))\n",
    "print(s2)\n",
    "\n",
    "# From a dictionary\n",
    "data = {'x': 10, 'y': 20}\n",
    "s3 = pd.Series(data)\n",
    "print(s3)"
   ]
  },
  {
   "cell_type": "markdown",
   "id": "7e060925",
   "metadata": {},
   "source": [
    "## Access to Values and Index\n",
    "You can access values and indexes separately."
   ]
  },
  {
   "cell_type": "code",
   "execution_count": null,
   "id": "37aafcf6",
   "metadata": {},
   "outputs": [],
   "source": [
    "s = pd.Series([10, 20, 30], index=['a', 'b', 'c'])\n",
    "print('Values:', s.values)\n",
    "print('Index:', s.index)"
   ]
  },
  {
   "cell_type": "markdown",
   "id": "808bfb7e",
   "metadata": {},
   "source": [
    "## Indexing by String\n",
    "Set and use string labels as an index."
   ]
  },
  {
   "cell_type": "code",
   "execution_count": null,
   "id": "678032a2",
   "metadata": {},
   "outputs": [],
   "source": [
    "s = pd.Series([10, 20, 30], index=['apple', 'banana', 'cherry'])\n",
    "print(s['banana'])"
   ]
  },
  {
   "cell_type": "markdown",
   "id": "5d3f2445",
   "metadata": {},
   "source": [
    "## Access Elements Using Index\n",
    "You can extract elements by applying indexing to the Series."
   ]
  },
  {
   "cell_type": "code",
   "execution_count": null,
   "id": "306aa236",
   "metadata": {},
   "outputs": [],
   "source": [
    "s = pd.Series([10, 20, 30], index=['a', 'b', 'c'])\n",
    "print(s['b':'c'])"
   ]
  },
  {
   "cell_type": "markdown",
   "id": "f122c6cd",
   "metadata": {},
   "source": [
    "## DataFrame\n",
    "A DataFrame is a two-dimensional labeled data structure."
   ]
  },
  {
   "cell_type": "code",
   "execution_count": null,
   "id": "3393b240",
   "metadata": {},
   "outputs": [],
   "source": [
    "df = pd.DataFrame({'Name': ['Alice', 'Bob'], 'Age': [25, 30]})\n",
    "print(df)"
   ]
  },
  {
   "cell_type": "markdown",
   "id": "e79cdef2",
   "metadata": {},
   "source": [
    "## Create DataFrame from Series\n",
    "You can combine multiple Series to create a DataFrame."
   ]
  },
  {
   "cell_type": "code",
   "execution_count": null,
   "id": "256f808d",
   "metadata": {},
   "outputs": [],
   "source": [
    "heights = pd.Series([165, 180], index=['Alice', 'Bob'])\n",
    "weights = pd.Series([55, 75], index=['Alice', 'Bob'])\n",
    "\n",
    "bmi = pd.DataFrame({'Height': heights, 'Weight': weights})\n",
    "print(bmi)"
   ]
  },
  {
   "cell_type": "markdown",
   "id": "c9292d56",
   "metadata": {},
   "source": [
    "## Create DataFrame from List\n",
    "You can create a DataFrame from a list of dictionaries or other iterable structures."
   ]
  },
  {
   "cell_type": "code",
   "execution_count": null,
   "id": "0dd85537",
   "metadata": {},
   "outputs": [],
   "source": [
    "data = [{'Name': 'Alice', 'Age': 25}, {'Name': 'Bob', 'Age': 30}]\n",
    "df = pd.DataFrame(data)\n",
    "print(df)"
   ]
  }
 ],
 "metadata": {},
 "nbformat": 4,
 "nbformat_minor": 5
}