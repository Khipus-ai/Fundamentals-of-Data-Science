{
 "cells": [
  {
   "cell_type": "markdown",
   "id": "94039372",
   "metadata": {},
   "source": [
    "# Khipus.ai\n",
    "## Fundamentals of Data Science\n",
    "### Python (NumPy)\n",
    "<span>© Copyright Notice 2025, Khipus.ai - All Rights Reserved.</span>"
   ]
  },
  {
   "cell_type": "markdown",
   "id": "be40c885",
   "metadata": {},
   "source": [
    "### What is NumPy and its value to data science\n",
    "NumPy is a powerful Python library for numerical computing. It provides support for:\n",
    "- Multi-dimensional arrays and matrices\n",
    "- A collection of mathematical functions to operate on arrays\n",
    "\n",
    "In data science, NumPy is extremely useful because it:\n",
    "- Efficient storage and manipulation of numerical data\n",
    "- Foundation for many other libraries like Pandas and scikit-learn\n",
    "- Performance improvements over standard Python data structures like lists"
   ]
  },
  {
   "cell_type": "markdown",
   "id": "51addf6b",
   "metadata": {},
   "source": [
    "# Package installation\n",
    "\n",
    "To install the NumPy package from a Jupyter Notebook, you can use the following command within a code cell:"
   ]
  },
  {
   "cell_type": "code",
   "execution_count": 1,
   "id": "2e679ab1",
   "metadata": {},
   "outputs": [
    {
     "name": "stdout",
     "output_type": "stream",
     "text": [
      "Requirement already satisfied: numpy in c:\\users\\sanikj\\appdata\\local\\anaconda3\\lib\\site-packages (1.26.4)\n"
     ]
    }
   ],
   "source": [
    "!pip install numpy"
   ]
  },
  {
   "cell_type": "markdown",
   "id": "74e4811b",
   "metadata": {},
   "source": [
    "# Importing NumPy"
   ]
  },
  {
   "cell_type": "code",
   "execution_count": 2,
   "id": "0196045c",
   "metadata": {},
   "outputs": [],
   "source": [
    "# Importing NumPy\n",
    "import numpy as np"
   ]
  },
  {
   "cell_type": "markdown",
   "id": "39d54caf",
   "metadata": {},
   "source": [
    "### Array Creation\n",
    "NumPy provides multiple ways to create arrays, such as:\n",
    "- `np.array()`: Convert Python lists or tuples into arrays\n",
    "- `np.zeros()`: Create an array filled with zeros\n",
    "- `np.ones()`: Create an array filled with ones\n",
    "- `np.arange()`: Create arrays with a range of values"
   ]
  },
  {
   "cell_type": "code",
   "execution_count": 3,
   "id": "4592e7a9",
   "metadata": {},
   "outputs": [
    {
     "name": "stdout",
     "output_type": "stream",
     "text": [
      "Example Array: [1 2 3 4 5]\n"
     ]
    }
   ],
   "source": [
    "# Example: Creating a simple NumPy array from a Python list\n",
    "example_array = np.array([1, 2, 3, 4, 5])\n",
    "print(\"Example Array:\", example_array)"
   ]
  },
  {
   "cell_type": "code",
   "execution_count": 4,
   "id": "dea44c96",
   "metadata": {},
   "outputs": [
    {
     "name": "stdout",
     "output_type": "stream",
     "text": [
      "Array from list: [10 20 30]\n",
      "Zeros Array:\n",
      "[[0. 0. 0.]\n",
      " [0. 0. 0.]]\n",
      "Ones Array:\n",
      "[[1. 1. 1.]\n",
      " [1. 1. 1.]\n",
      " [1. 1. 1.]]\n",
      "Range Array: [0 2 4 6 8]\n"
     ]
    }
   ],
   "source": [
    "# Example: Creating arrays using built-in NumPy functions\n",
    "zeros_array = np.zeros((2, 3))\n",
    "ones_array = np.ones((3, 3))\n",
    "range_array = np.arange(0, 10, 2)\n",
    "\n",
    "print(\"Array from list:\", array_from_list)\n",
    "print(\"Zeros Array:\")\n",
    "print(zeros_array)\n",
    "print(\"Ones Array:\")\n",
    "print(ones_array)\n",
    "print(\"Range Array:\", range_array)"
   ]
  },
  {
   "cell_type": "markdown",
   "id": "8b5ca5ab",
   "metadata": {},
   "source": [
    "### Indexing and Slicing\n",
    "Indexing and slicing in NumPy is used to access and modify array elements.\n",
    "- Use square brackets `[]` for accessing array elements\n",
    "- Slice arrays using the colon `:` operator"
   ]
  },
  {
   "cell_type": "code",
   "execution_count": 7,
   "id": "84a322e5",
   "metadata": {},
   "outputs": [
    {
     "name": "stdout",
     "output_type": "stream",
     "text": [
      "Element at index 2: 30\n",
      "Slice from index 1 to 3: [20 30 40]\n"
     ]
    }
   ],
   "source": [
    "# Example: Indexing and Slicing\n",
    "array_example = np.array([10, 20, 30, 40, 50])\n",
    "print(\"Element at index 2:\", array_example[2])\n",
    "print(\"Slice from index 1 to 3:\", array_example[1:4])\n",
    "\n"
   ]
  },
  {
   "cell_type": "code",
   "execution_count": 6,
   "id": "9c89f4b8",
   "metadata": {},
   "outputs": [
    {
     "name": "stdout",
     "output_type": "stream",
     "text": [
      "Element at row 2, col 3: 6\n",
      "First row: [1 2 3]\n"
     ]
    }
   ],
   "source": [
    "# Example: Multi-dimensional arrays\n",
    "multi_dim_array = np.array([[1, 2, 3], [4, 5, 6], [7, 8, 9]])\n",
    "print(\"Element at row 2, col 3:\", multi_dim_array[1, 2])\n",
    "print(\"First row:\", multi_dim_array[0, :])"
   ]
  },
  {
   "cell_type": "markdown",
   "id": "b807525c",
   "metadata": {},
   "source": [
    "### Reshaping Arrays\n",
    "Reshaping changes the shape of an existing array without altering its data.\n",
    "- Use `.reshape()` to modify array dimensions"
   ]
  },
  {
   "cell_type": "code",
   "execution_count": 8,
   "id": "0c73bd03",
   "metadata": {},
   "outputs": [
    {
     "name": "stdout",
     "output_type": "stream",
     "text": [
      "Original Array: [ 1  2  3  4  5  6  7  8  9 10 11 12]\n",
      "Reshaped Array:\n",
      "[[ 1  2  3  4]\n",
      " [ 5  6  7  8]\n",
      " [ 9 10 11 12]]\n"
     ]
    }
   ],
   "source": [
    "# Example: Reshaping Arrays one-dimensional to multi-dimensional\n",
    "original_array = np.arange(1, 13)\n",
    "\n",
    "# Reshaping in 3 rows and 4 cols array\n",
    "reshaped_array = original_array.reshape(3, 4)\n",
    "print(\"Original Array:\", original_array)\n",
    "print(\"Reshaped Array:\")\n",
    "print(reshaped_array)"
   ]
  },
  {
   "cell_type": "markdown",
   "id": "8a9afd18",
   "metadata": {},
   "source": [
    "# Arrays operations\n",
    "This is an example of an array operation. Specifically, it is an element-wise multiplication of two NumPy arrays. Each element in one array is multiplied by the corresponding element in the other array.\n",
    "\n",
    "\n",
    "Explanation:\n",
    "\n",
    "np.arange(5) creates an array x with values [0, 1, 2, 3, 4].\n",
    "\n",
    "np.arange(1, 6) creates an array y with values [1, 2, 3, 4, 5].\n",
    "\n",
    "\n",
    "x * y performs element-wise multiplication of the two arrays:\n",
    "0 * 1 = 0\n",
    "\n",
    "1 * 2 = 2\n",
    "\n",
    "2 * 3 = 6\n",
    "\n",
    "3 * 4 = 12\n",
    "\n",
    "4 * 5 = 20\n",
    "\n",
    "The result is an array [0, 2, 6, 12, 20].\n"
   ]
  },
  {
   "cell_type": "code",
   "execution_count": 10,
   "id": "0c1b215c",
   "metadata": {},
   "outputs": [
    {
     "name": "stdout",
     "output_type": "stream",
     "text": [
      "[ 0  2  6 12 20]\n"
     ]
    }
   ],
   "source": [
    "# Create an array with values [0, 1, 2, 3, 4]\n",
    "x = np.arange(5)\n",
    "\n",
    "# Create an array with values [1, 2, 3, 4, 5]\n",
    "y = np.arange(1, 6)\n",
    "\n",
    "# Perform element-wise multiplication of arrays x and y\n",
    "result = x * y\n",
    "\n",
    "print(result)"
   ]
  },
  {
   "cell_type": "markdown",
   "id": "e0d28cf3",
   "metadata": {},
   "source": [
    "### Universal Functions (Ufuncs)\n",
    "Ufuncs (Universal Functions) are functions that operate element-wise on arrays.\n",
    "- Examples: `np.add()`, `np.multiply()`, `np.sqrt()`, `np.exp()`"
   ]
  },
  {
   "cell_type": "code",
   "execution_count": 11,
   "id": "8f109052",
   "metadata": {},
   "outputs": [
    {
     "name": "stdout",
     "output_type": "stream",
     "text": [
      "Original Array: [ 1  4  9 16]\n",
      "Square Root Array: [1. 2. 3. 4.]\n",
      "Array after adding 10: [11 14 19 26]\n"
     ]
    }
   ],
   "source": [
    "# Example: Using Ufuncs\n",
    "array_ufunc = np.array([1, 4, 9, 16])\n",
    "sqrt_array = np.sqrt(array_ufunc)\n",
    "add_array = np.add(array_ufunc, 10)\n",
    "\n",
    "print(\"Original Array:\", array_ufunc)\n",
    "print(\"Square Root Array:\", sqrt_array)\n",
    "print(\"Array after adding 10:\", add_array)"
   ]
  },
  {
   "cell_type": "code",
   "execution_count": null,
   "id": "94b7ef51",
   "metadata": {},
   "outputs": [],
   "source": []
  }
 ],
 "metadata": {
  "kernelspec": {
   "display_name": "base",
   "language": "python",
   "name": "python3"
  },
  "language_info": {
   "codemirror_mode": {
    "name": "ipython",
    "version": 3
   },
   "file_extension": ".py",
   "mimetype": "text/x-python",
   "name": "python",
   "nbconvert_exporter": "python",
   "pygments_lexer": "ipython3",
   "version": "3.11.7"
  }
 },
 "nbformat": 4,
 "nbformat_minor": 5
}
